{
 "cells": [
  {
   "cell_type": "markdown",
   "metadata": {},
   "source": [
    "\n",
    "\n",
    "1. You have an array containing integers from 1 to 10 (not in order) but one number is missing (there is 9 numbers in the array ).\n",
    "\n",
    "a) write a pseudo code to find the missing number (10 points).\n",
    "\n",
    "b) what is the worst case run time complexity of your suggested solution(5 points)"
   ]
  },
  {
   "cell_type": "markdown",
   "metadata": {},
   "source": [
    "a.\n",
    "1. The formula of summation is t=n*(n+1)/2\n",
    "2. Count the sum of all elements of list store in variable s\n",
    "3. Subtract the s from t and store in variable r.r is the missing number of array\n",
    "b.\n",
    "The time complexity of this is O(n).Since one loop is used to have sum of all intergers of array."
   ]
  },
  {
   "cell_type": "markdown",
   "metadata": {},
   "source": [
    "arr=[10,9,8,5,4,3,2,1,7]\n",
    "n = length(arr)\n",
    "total = (n+1 * n+2)/2\n",
    "sum = 0\n",
    "for i in range(start, end):\n",
    "    sum += arr[i]\n",
    "missing_value= total - sum\n",
    "return missing_value\n",
    "\n"
   ]
  },
  {
   "cell_type": "code",
   "execution_count": null,
   "metadata": {},
   "outputs": [],
   "source": [
    "def missingNumber(arr):\n",
    "    t = (len(arr) + 1 )* (len(arr) + 2)/2\n",
    "    s = sum(arr)\n",
    "    r = t - s\n",
    "    return r \n",
    "arr=[10,9,8,5,4,3,2,1,7]\n",
    "missingNumber(arr)"
   ]
  },
  {
   "cell_type": "markdown",
   "metadata": {},
   "source": [
    "2. You are given an array of integers:\n",
    "\n",
    "a) write a pseudo code to find all pairs of numbers whose sum is equal to a particular number (10 points).\n",
    "\n"
   ]
  },
  {
   "cell_type": "markdown",
   "metadata": {},
   "source": [
    "b) what is the worst case run time complexity of your suggested solution(5 points)\n",
    "O(n^2)"
   ]
  },
  {
   "cell_type": "code",
   "execution_count": 2,
   "metadata": {},
   "outputs": [
    {
     "name": "stdout",
     "output_type": "stream",
     "text": [
      "Pairs= 1 6\n",
      "Pairs= 4 3\n"
     ]
    }
   ],
   "source": [
    "# Pair sum is equal to 7 Worst Case\n",
    "def getPairs(arr):\n",
    "    comapre = 7\n",
    "    for i in range(len(arr)):\n",
    "        if arr[i] < comapre:\n",
    "            for j in range(i,len(arr)):\n",
    "                if arr[i] + arr[j] == comapre:\n",
    "                    print('Pairs=',arr[i],arr[j]) \n",
    "arr=[1,4,3,7,6]\n",
    "getPairs(arr)"
   ]
  },
  {
   "cell_type": "markdown",
   "metadata": {},
   "source": [
    "3. You are given an array of integers:\n",
    "\n",
    "a) write a pseudo code to remove duplicates from your array (10 points).\n",
    "\n",
    "b) what is the worst case run time complexity of your suggested solution(5 points)"
   ]
  },
  {
   "cell_type": "code",
   "execution_count": 3,
   "metadata": {},
   "outputs": [
    {
     "name": "stdout",
     "output_type": "stream",
     "text": [
      "[1, 2, 3, 4, 5, 6, 9]\n"
     ]
    }
   ],
   "source": [
    "arr=[1,4,9,2,2,3,4,5,6,6]\n",
    "print(list(set(arr)))"
   ]
  },
  {
   "cell_type": "markdown",
   "metadata": {},
   "source": [
    "4. you are given 2 sorted arrays:\n",
    "\n",
    "a) write a pseudo code to find the median of the two sorted arrays (combined) (10 points).\n",
    "\n",
    "b) what is the worst case run time complexity of your suggested solution(5 points)"
   ]
  },
  {
   "cell_type": "markdown",
   "metadata": {},
   "source": [
    "take two sorted array arrayOne and arrayTwo\n",
    " mergedArray = arrayOne + arrayTwo\n",
    " Now to sort the Merged array \n",
    "  declare two variables left and right\n",
    "  intialize left to 0 and right to n-1\n",
    "  calculate mid = left(right - left) // 2\n",
    "  call megerSort using (left, mid) and (mid + 1, right)\n",
    "  repeat step until left < right\n",
    "  then call merge (arr, left, mid,right)\n",
    "  return the list after merging\n",
    "  Now divide index= lenght(sortedMegedList) // 2\n",
    "  now print(sortedMegedList[index]) # this gives the median of merged list\n",
    "b) what is the worst case run time complexity of your suggested solution\n",
    "The worst-case runtime complexity is: n logn"
   ]
  },
  {
   "cell_type": "code",
   "execution_count": null,
   "metadata": {},
   "outputs": [],
   "source": [
    "arrOne=[1,3,5,7]\n",
    "arrTwo=[2,4,6,8]\n",
    "arrWorking= arrOne + arrTwo\n",
    "arrWorking.sort()\n",
    "index = (len(arrWorking) -1)//2\n",
    "print(arrWorking[index])"
   ]
  },
  {
   "cell_type": "markdown",
   "metadata": {},
   "source": [
    "5.  Use one of the sorting algorithms to sort the following array input = { 4, 1, 2, 7, 10, 1, 2, 4, 4, 7, 1, 2, 1, 10, 1, 2, 4, 1, 2, 7, 10, 1, 2};\n",
    "\n",
    "Show step by step what happens for the input  (no pseudo code is required) (20 points). "
   ]
  },
  {
   "cell_type": "code",
   "execution_count": 36,
   "metadata": {},
   "outputs": [
    {
     "name": "stdout",
     "output_type": "stream",
     "text": [
      "[1, 2, 4, 7, 10]\n"
     ]
    }
   ],
   "source": [
    "def merge(arr, l, m, r):\n",
    "    n1 = m - l + 1\n",
    "    n2 = r - m\n",
    "    L = [0] * (n1)\n",
    "    R = [0] * (n2)\n",
    "    for i in range(0, n1):\n",
    "        L[i] = arr[l + i]\n",
    "    for j in range(0 , n2):\n",
    "        R[j] = arr[m + 1 + j]\n",
    "    i = 0\n",
    "    j = 0\n",
    "    k = l\n",
    "    while i < n1  and j < n2:\n",
    "        if L[i] <= R[j]:\n",
    "            arr[k] = L[i]\n",
    "            i+=1\n",
    "        else:\n",
    "            arr[k] = R[j]\n",
    "            j+=1\n",
    "        k +=1    \n",
    "    while i < n1:\n",
    "        arr[k] = L[i]\n",
    "        i += 1\n",
    "        k += 1\n",
    " \n",
    "    while j < n2:\n",
    "        arr[k] = R[j]\n",
    "        j += 1\n",
    "        k += 1 \n",
    "    return arr\n",
    "\n",
    "def mergeSort(arr,l,r):\n",
    "    if l < r:\n",
    "        m = l+(r-l)//2\n",
    "        mergeSort(arr, l,m)\n",
    "        mergeSort(arr, m+1, r)\n",
    "        arr = merge(arr, l, m, r)\n",
    "        return arr\n",
    "\n",
    "arr=[ 4, 1, 2, 7, 10, 1, 2, 4, 4, 7, 1, 2, 1, 10, 1, 2, 4, 1, 2, 7, 10, 1, 2]\n",
    "mergeSort(arr,0,len(arr)-1)\n",
    "print(list(set(arr)))"
   ]
  },
  {
   "cell_type": "markdown",
   "metadata": {},
   "source": [
    "6.  Answer the following questions:\n",
    "\n",
    "a) When does the worst case of Quick sort happen and what is the worst case run time complexity in terms of big O? (5 points)\n",
    "   When the array is sorted in ascending or descending order it chooses the pivot element that divides the  where one array has no elements and other array has n-1 elements.\n",
    "   Also when all the elements of the array are same the pivot element divides into n-1 array.\n",
    "   The worst case time complexicity is O(n^2).\n",
    "\n",
    "b) When does the best case of bubble sort happen and what is the best case run time complexity in terms of big O? (5 points)\n",
    "   The best case scenario is when the array is already sorted.The time complexicity is O(n)\n",
    "\n",
    "c) What is the runtime complexity of Insertion sort in all 3 cases? Explain the situation which results in best, average and worst case complexity. (10 points)\n",
    "   i. Best Case :\n",
    "      The best case time complexcity is O(n).This happens only when the array input is sorted in ascending order.\n",
    "      arrayInput = [1,2,3,4,5]\n",
    "   ii. Average Case :\n",
    "         The time complexity is O(n^2).In this case it compares with key element if less than key value places before key element else after the key element.\n",
    "         arrayInput = [1,3,2,6,4]\n",
    "   iii. Worst Case:\n",
    "         The time complexcity is O(n^2).This happens when the array is sorted in descending order.\n",
    "         arrayInput = [9,8,7,6,5,4]       "
   ]
  },
  {
   "cell_type": "code",
   "execution_count": null,
   "metadata": {},
   "outputs": [],
   "source": []
  }
 ],
 "metadata": {
  "interpreter": {
   "hash": "2be5faf79681da6f2a61fdfdd5405d65d042280f7fba6178067603e3a2925119"
  },
  "kernelspec": {
   "display_name": "Python 3.10.0 64-bit",
   "language": "python",
   "name": "python3"
  },
  "language_info": {
   "codemirror_mode": {
    "name": "ipython",
    "version": 3
   },
   "file_extension": ".py",
   "mimetype": "text/x-python",
   "name": "python",
   "nbconvert_exporter": "python",
   "pygments_lexer": "ipython3",
   "version": "3.10.0"
  },
  "orig_nbformat": 4
 },
 "nbformat": 4,
 "nbformat_minor": 2
}
